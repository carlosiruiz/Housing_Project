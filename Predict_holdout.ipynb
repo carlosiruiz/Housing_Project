{
 "cells": [
  {
   "cell_type": "code",
   "execution_count": 1,
   "metadata": {},
   "outputs": [],
   "source": [
    "import pandas as pd\n",
    "import numpy as np\n",
    "import math\n",
    "from math import sin, cos, sqrt, atan2\n",
    "from matplotlib import pyplot as plt\n",
    "import numpy as np\n",
    "from statsmodels.formula.api import ols\n",
    "from sklearn.linear_model import LinearRegression\n",
    "from sklearn.preprocessing import PolynomialFeatures\n",
    "from sklearn.model_selection import train_test_split\n",
    "from sklearn import linear_model\n",
    "from sklearn import metrics\n",
    "from sklearn.preprocessing import StandardScaler\n",
    "from statsmodels.stats.outliers_influence import variance_inflation_factor\n",
    "from sklearn.feature_selection import SelectKBest, f_regression,mutual_info_regression\n",
    "from sklearn.feature_selection import RFECV\n",
    "import warnings\n",
    "import seaborn as sns\n",
    "plt.style.use('seaborn')\n",
    "\n",
    "warnings.filterwarnings(\"ignore\")\n",
    "\n",
    "pd.set_option('display.max_columns', 100)"
   ]
  },
  {
   "cell_type": "markdown",
   "metadata": {},
   "source": [
    "## Step 1: Read in hold out data, scalers, and best model"
   ]
  },
  {
   "cell_type": "code",
   "execution_count": 2,
   "metadata": {},
   "outputs": [],
   "source": [
    "holdout = pd.read_csv('kc_house_data_train.csv', index_col=0)"
   ]
  },
  {
   "cell_type": "code",
   "execution_count": 3,
   "metadata": {},
   "outputs": [],
   "source": [
    "# final_scaler = read_pickle(lm_final)\n",
    "# final_model = read_pickle(scaler)"
   ]
  },
  {
   "cell_type": "markdown",
   "metadata": {},
   "source": [
    "## Step 2: Feature Engineering for holdout set"
   ]
  },
  {
   "cell_type": "markdown",
   "metadata": {},
   "source": [
    "Remember we have to perform the same transformations on our holdout data (feature engineering, extreme values, and scaling) that we performed on the original data."
   ]
  },
  {
   "cell_type": "code",
   "execution_count": 4,
   "metadata": {},
   "outputs": [],
   "source": [
    "#modifying Date fo make it more readable \n",
    "holdout['year'] = holdout['date'].apply(lambda x: int(x[0:4]))\n",
    "holdout['month'] = holdout['date'].apply(lambda x: int(x[4:6]))\n",
    "\n",
    "holdout['date'] = holdout['date'].apply(lambda x: x.strip('T000000'))\n",
    "holdout['date'] = pd.to_datetime(holdout['date'], format='%Y%m%d')\n",
    "\n",
    "#fixing outliers on bedrooms\n",
    "holdout[holdout.bedrooms>7].bedrooms=holdout.bedrooms.median()\n",
    "holdout[holdout.bathrooms>5].bathrooms=holdout.bathrooms.median()"
   ]
  },
  {
   "cell_type": "code",
   "execution_count": 5,
   "metadata": {},
   "outputs": [],
   "source": [
    "holdout['coordinates'] = list(zip(holdout.lat, holdout.long))\n",
    "holdout=holdout.drop(['lat','long'],axis=1)"
   ]
  },
  {
   "cell_type": "code",
   "execution_count": 6,
   "metadata": {},
   "outputs": [],
   "source": [
    "#generated a feature that calculates the distance from city center to add more context to our location columns.\n",
    "from geopy.distance import geodesic\n",
    "seattle = (47.60646230355264, -122.33451886696908)\n",
    "holdout['dis_from_city']=holdout['coordinates'].apply(lambda x: round(geodesic(seattle, x ).miles,2))\n",
    "holdout.drop([\"coordinates\"],axis=1,inplace=True)"
   ]
  },
  {
   "cell_type": "code",
   "execution_count": 7,
   "metadata": {},
   "outputs": [],
   "source": [
    "#binned grade to organize the rating of a house and separated into dummies in reference of how high it was scored.\n",
    "holdout.grade=pd.cut(holdout.grade,bins=3,labels=[1,2,3])"
   ]
  },
  {
   "cell_type": "code",
   "execution_count": 8,
   "metadata": {},
   "outputs": [],
   "source": [
    "#creating bins for the year it was built.\n",
    "for x in range(len(holdout.yr_built)):\n",
    "    holdout.yr_built[x]=(math.floor(holdout.yr_built[x]/10))*10"
   ]
  },
  {
   "cell_type": "code",
   "execution_count": 9,
   "metadata": {},
   "outputs": [],
   "source": [
    "#used zipcode to create a column that knows if a zipcode is an expensive neighborhood or not.\n",
    "high_income_zip=[98072, 98065, 98052, 98005, 8177, 98121, 98199, 98110, 98006, 98053, 98101, 98033, 98077, 98074, 98075, 98112, 98164, 98004, 98040, 98039]\n",
    "holdout['high_income_zip']=0\n",
    "for x in range(len(holdout.zipcode)):\n",
    "    if holdout.zipcode[x] in high_income_zip:\n",
    "        holdout.high_income_zip[x]=1\n",
    "    else:\n",
    "        holdout.high_income_zip[x]=0"
   ]
  },
  {
   "cell_type": "code",
   "execution_count": 10,
   "metadata": {},
   "outputs": [],
   "source": [
    "#decided to create dummies for grade and condition to better expalin their categorical values\n",
    "dummies = pd.get_dummies(holdout['grade'],prefix='grade')\n",
    "dummies[list(dummies.columns)[:2]]\n",
    "holdout=pd.concat([holdout, dummies[list(dummies.columns)[:2]]], axis=1, sort=False)\n",
    "holdout=holdout.drop('grade',axis=1)\n",
    "\n",
    "holdout = pd.concat([holdout, pd.get_dummies(holdout['condition'],drop_first = True,prefix = 'condition')], 1)"
   ]
  },
  {
   "cell_type": "code",
   "execution_count": 11,
   "metadata": {},
   "outputs": [],
   "source": [
    "#created a binary variable that veryfies if a property has been resold or not. \n",
    "resold=holdout.id.value_counts(sort=True).to_frame()\n",
    "res=list(holdout[holdout.id.isin(list(resold[resold.id>1].index))].index)\n",
    "holdout['resold']=0\n",
    "for x in res:\n",
    "    holdout.resold[x]=1"
   ]
  },
  {
   "cell_type": "code",
   "execution_count": 12,
   "metadata": {},
   "outputs": [],
   "source": [
    "#created a column that shows the age of a house since it was renovated.\n",
    "conditions=[\n",
    "    holdout.yr_renovated==0,\n",
    "    holdout.yr_renovated!=0,\n",
    "]\n",
    "choises=[\n",
    "    2020-holdout.yr_built,\n",
    "    (2020 - holdout['yr_renovated']) \n",
    "]\n",
    "holdout['age']=np.select(conditions,choises)"
   ]
  },
  {
   "cell_type": "code",
   "execution_count": 13,
   "metadata": {},
   "outputs": [],
   "source": [
    "#creating polinomials to try to make a more linear relation for the features.\n",
    "holdout['sqft_lot15_log'] = np.log(holdout['sqft_lot15'])\n",
    "holdout['dis_from_city_log'] = np.log(holdout['dis_from_city'])\n",
    "holdout['sqft_basement^2'] = holdout['sqft_basement']**2"
   ]
  },
  {
   "cell_type": "code",
   "execution_count": 14,
   "metadata": {},
   "outputs": [],
   "source": [
    "#creating interactions with features that I think have relevance with eachother.\n",
    "holdout['sqft_living_waterfront'] = holdout['sqft_living']*holdout['waterfront']\n",
    "holdout['sqft_lot_high_income_zip'] = holdout['sqft_lot']*holdout['high_income_zip']\n",
    "holdout['sqft_above_waterfront'] = holdout['sqft_above']*holdout['floors']\n",
    "holdout['yr_built_sqrft_living'] = holdout['yr_built']*holdout['sqft_living']"
   ]
  },
  {
   "cell_type": "code",
   "execution_count": 15,
   "metadata": {},
   "outputs": [],
   "source": [
    "# transformed_holdout = final_scaler(holdout)"
   ]
  },
  {
   "cell_type": "markdown",
   "metadata": {},
   "source": [
    "## Step 3: Predict the holdout set"
   ]
  },
  {
   "cell_type": "code",
   "execution_count": 16,
   "metadata": {},
   "outputs": [],
   "source": [
    "# final_answers = final_model.predict(transformed_holdout)"
   ]
  },
  {
   "cell_type": "markdown",
   "metadata": {},
   "source": [
    "## Step 4: Export your predictions"
   ]
  },
  {
   "cell_type": "code",
   "execution_count": 17,
   "metadata": {},
   "outputs": [],
   "source": [
    "# final_answer.to_csv('housing_preds_your_ignacio_ruiz.csv')"
   ]
  }
 ],
 "metadata": {
  "kernelspec": {
   "display_name": "Python 3",
   "language": "python",
   "name": "python3"
  },
  "language_info": {
   "codemirror_mode": {
    "name": "ipython",
    "version": 3
   },
   "file_extension": ".py",
   "mimetype": "text/x-python",
   "name": "python",
   "nbconvert_exporter": "python",
   "pygments_lexer": "ipython3",
   "version": "3.7.6"
  }
 },
 "nbformat": 4,
 "nbformat_minor": 2
}
